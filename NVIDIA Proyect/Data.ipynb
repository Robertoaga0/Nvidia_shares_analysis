{
 "cells": [
  {
   "cell_type": "code",
   "execution_count": 20,
   "metadata": {},
   "outputs": [
    {
     "name": "stdout",
     "output_type": "stream",
     "text": [
      "Collecting mplfinance\n",
      "  Downloading mplfinance-0.12.10b0-py3-none-any.whl.metadata (19 kB)\n",
      "Requirement already satisfied: matplotlib in c:\\users\\rober\\appdata\\local\\programs\\python\\python312\\lib\\site-packages (from mplfinance) (3.9.0)\n",
      "Requirement already satisfied: pandas in c:\\users\\rober\\appdata\\local\\programs\\python\\python312\\lib\\site-packages (from mplfinance) (2.2.2)\n",
      "Requirement already satisfied: contourpy>=1.0.1 in c:\\users\\rober\\appdata\\local\\programs\\python\\python312\\lib\\site-packages (from matplotlib->mplfinance) (1.2.1)\n",
      "Requirement already satisfied: cycler>=0.10 in c:\\users\\rober\\appdata\\local\\programs\\python\\python312\\lib\\site-packages (from matplotlib->mplfinance) (0.12.1)\n",
      "Requirement already satisfied: fonttools>=4.22.0 in c:\\users\\rober\\appdata\\local\\programs\\python\\python312\\lib\\site-packages (from matplotlib->mplfinance) (4.53.0)\n",
      "Requirement already satisfied: kiwisolver>=1.3.1 in c:\\users\\rober\\appdata\\local\\programs\\python\\python312\\lib\\site-packages (from matplotlib->mplfinance) (1.4.5)\n",
      "Requirement already satisfied: numpy>=1.23 in c:\\users\\rober\\appdata\\local\\programs\\python\\python312\\lib\\site-packages (from matplotlib->mplfinance) (1.26.4)\n",
      "Requirement already satisfied: packaging>=20.0 in c:\\users\\rober\\appdata\\roaming\\python\\python312\\site-packages (from matplotlib->mplfinance) (24.0)\n",
      "Requirement already satisfied: pillow>=8 in c:\\users\\rober\\appdata\\local\\programs\\python\\python312\\lib\\site-packages (from matplotlib->mplfinance) (10.3.0)\n",
      "Requirement already satisfied: pyparsing>=2.3.1 in c:\\users\\rober\\appdata\\local\\programs\\python\\python312\\lib\\site-packages (from matplotlib->mplfinance) (3.1.2)\n",
      "Requirement already satisfied: python-dateutil>=2.7 in c:\\users\\rober\\appdata\\roaming\\python\\python312\\site-packages (from matplotlib->mplfinance) (2.9.0.post0)\n",
      "Requirement already satisfied: pytz>=2020.1 in c:\\users\\rober\\appdata\\local\\programs\\python\\python312\\lib\\site-packages (from pandas->mplfinance) (2024.1)\n",
      "Requirement already satisfied: tzdata>=2022.7 in c:\\users\\rober\\appdata\\local\\programs\\python\\python312\\lib\\site-packages (from pandas->mplfinance) (2024.1)\n",
      "Requirement already satisfied: six>=1.5 in c:\\users\\rober\\appdata\\roaming\\python\\python312\\site-packages (from python-dateutil>=2.7->matplotlib->mplfinance) (1.16.0)\n",
      "Downloading mplfinance-0.12.10b0-py3-none-any.whl (75 kB)\n",
      "   ---------------------------------------- 0.0/75.0 kB ? eta -:--:--\n",
      "   ----- ---------------------------------- 10.2/75.0 kB ? eta -:--:--\n",
      "   ----- ---------------------------------- 10.2/75.0 kB ? eta -:--:--\n",
      "   ---------------- ----------------------- 30.7/75.0 kB 325.1 kB/s eta 0:00:01\n",
      "   ---------------------------------------- 75.0/75.0 kB 518.2 kB/s eta 0:00:00\n",
      "Installing collected packages: mplfinance\n",
      "Successfully installed mplfinance-0.12.10b0\n",
      "Note: you may need to restart the kernel to use updated packages.\n"
     ]
    },
    {
     "name": "stderr",
     "output_type": "stream",
     "text": [
      "\n",
      "[notice] A new release of pip is available: 24.0 -> 25.0.1\n",
      "[notice] To update, run: python.exe -m pip install --upgrade pip\n"
     ]
    }
   ],
   "source": [
    "pip install mplfinance "
   ]
  },
  {
   "cell_type": "code",
   "execution_count": 2,
   "metadata": {},
   "outputs": [],
   "source": [
    "import yfinance as yf   \n",
    "import pandas as pd \n",
    "\n"
   ]
  },
  {
   "cell_type": "code",
   "execution_count": null,
   "metadata": {},
   "outputs": [
    {
     "name": "stderr",
     "output_type": "stream",
     "text": [
      "[*********************100%***********************]  1 of 1 completed\n",
      "\n",
      "1 Failed download:\n",
      "['NVDA']: JSONDecodeError('Expecting value: line 1 column 1 (char 0)')\n"
     ]
    },
    {
     "name": "stdout",
     "output_type": "stream",
     "text": [
      "Empty DataFrame\n",
      "Columns: [(Adj Close, NVDA), (Close, NVDA), (High, NVDA), (Low, NVDA), (Open, NVDA), (Volume, NVDA)]\n",
      "Index: []\n"
     ]
    }
   ],
   "source": [
    "nvda = yf.download('NVDA',start='2020-01-01', end='2025-02-24')\n",
    "\n",
    "print(nvda.head())"
   ]
  },
  {
   "cell_type": "code",
   "execution_count": 6,
   "metadata": {},
   "outputs": [
    {
     "name": "stderr",
     "output_type": "stream",
     "text": [
      "$NVDA: possibly delisted; no price data found  (period=1y)\n"
     ]
    },
    {
     "name": "stdout",
     "output_type": "stream",
     "text": [
      "Empty DataFrame\n",
      "Columns: [Open, High, Low, Close, Adj Close, Volume]\n",
      "Index: []\n"
     ]
    }
   ],
   "source": [
    "session = yf.Ticker(\"NVDA\")\n",
    "nvda = session.history(period=\"1y\")  # Último año de datos\n",
    "print(nvda.head())"
   ]
  },
  {
   "cell_type": "markdown",
   "metadata": {},
   "source": [
    "### API TIINGO ###\n"
   ]
  },
  {
   "cell_type": "code",
   "execution_count": 17,
   "metadata": {},
   "outputs": [
    {
     "name": "stdout",
     "output_type": "stream",
     "text": [
      "Datos cargados correctamente ✅\n",
      "                       date  close   high    low   open  volume  adjClose  \\\n",
      "0  2000-01-03T00:00:00.000Z  46.81  47.63  45.25  47.25  626900  0.089444   \n",
      "1  2000-01-04T00:00:00.000Z  45.56  46.13  43.25  46.00  626000  0.087056   \n",
      "2  2000-01-05T00:00:00.000Z  44.19  45.00  43.75  44.25  392400  0.084438   \n",
      "3  2000-01-06T00:00:00.000Z  41.19  44.06  39.50  44.06  251000  0.078706   \n",
      "4  2000-01-07T00:00:00.000Z  41.88  42.31  40.38  41.00  148300  0.080024   \n",
      "\n",
      "    adjHigh    adjLow   adjOpen  adjVolume  divCash  splitFactor  \n",
      "0  0.091011  0.086464  0.090285  300911849      0.0          1.0  \n",
      "1  0.088145  0.082642  0.087897  300479849      0.0          1.0  \n",
      "2  0.085986  0.083597  0.084553  188351905      0.0          1.0  \n",
      "3  0.084190  0.075477  0.084190  120479939      0.0          1.0  \n",
      "4  0.080846  0.077158  0.078343   71183964      0.0          1.0  \n"
     ]
    }
   ],
   "source": [
    "API_KEY = \"440fcb2428b410d68c22a90fd2e0a0db821b17b6\"  # Asegúrate de reemplazar esto con tu clave correcta\n",
    "ticker = \"NVDA\"\n",
    "start_date = \"2000-01-01\"\n",
    "end_date = \"2025-02-24\"\n",
    "\n",
    "# Endpoint para obtener datos históricos\n",
    "url = f\"https://api.tiingo.com/tiingo/daily/{ticker}/prices?startDate={start_date}&endDate={end_date}&token={API_KEY}\"\n",
    "\n",
    "headers = {\n",
    "    'Content-Type': 'application/json'\n",
    "}\n",
    "\n",
    "# Hacer la petición a la API\n",
    "response = requests.get(url, headers=headers)\n",
    "\n",
    "# Convertir la respuesta en JSON a un DataFrame\n",
    "if response.status_code == 200:\n",
    "    data = response.json()\n",
    "    df = pd.DataFrame(data)\n",
    "    print(\"Datos cargados correctamente ✅\")\n",
    "    print(df.head())  # Ver las primeras filas\n",
    "else:\n",
    "    print(\"Error al obtener datos ❌\", response.status_code, response.text)"
   ]
  },
  {
   "cell_type": "code",
   "execution_count": 18,
   "metadata": {},
   "outputs": [
    {
     "name": "stdout",
     "output_type": "stream",
     "text": [
      "Datos guardados en nvidia_stock_data.csv\n"
     ]
    }
   ],
   "source": [
    "df.to_csv(\"nvidia_stock_data.csv\", index=False)\n",
    "print(\"Datos guardados en nvidia_stock_data.csv\")"
   ]
  }
 ],
 "metadata": {
  "kernelspec": {
   "display_name": "Python 3",
   "language": "python",
   "name": "python3"
  },
  "language_info": {
   "codemirror_mode": {
    "name": "ipython",
    "version": 3
   },
   "file_extension": ".py",
   "mimetype": "text/x-python",
   "name": "python",
   "nbconvert_exporter": "python",
   "pygments_lexer": "ipython3",
   "version": "3.12.2"
  }
 },
 "nbformat": 4,
 "nbformat_minor": 2
}
